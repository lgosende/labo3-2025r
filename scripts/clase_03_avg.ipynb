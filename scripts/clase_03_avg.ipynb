{
 "cells": [
  {
   "cell_type": "code",
   "execution_count": 28,
   "id": "0e807826",
   "metadata": {},
   "outputs": [],
   "source": [
    "import pandas as pd\n",
    "import kaggle\n"
   ]
  },
  {
   "cell_type": "code",
   "execution_count": 29,
   "id": "0c587109",
   "metadata": {},
   "outputs": [
    {
     "data": {
      "text/html": [
       "<div>\n",
       "<style scoped>\n",
       "    .dataframe tbody tr th:only-of-type {\n",
       "        vertical-align: middle;\n",
       "    }\n",
       "\n",
       "    .dataframe tbody tr th {\n",
       "        vertical-align: top;\n",
       "    }\n",
       "\n",
       "    .dataframe thead th {\n",
       "        text-align: right;\n",
       "    }\n",
       "</style>\n",
       "<table border=\"1\" class=\"dataframe\">\n",
       "  <thead>\n",
       "    <tr style=\"text-align: right;\">\n",
       "      <th></th>\n",
       "      <th>periodo</th>\n",
       "      <th>customer_id</th>\n",
       "      <th>product_id</th>\n",
       "      <th>plan_precios_cuidados</th>\n",
       "      <th>cust_request_qty</th>\n",
       "      <th>cust_request_tn</th>\n",
       "      <th>tn</th>\n",
       "    </tr>\n",
       "  </thead>\n",
       "  <tbody>\n",
       "    <tr>\n",
       "      <th>0</th>\n",
       "      <td>201701</td>\n",
       "      <td>10234</td>\n",
       "      <td>20524</td>\n",
       "      <td>0</td>\n",
       "      <td>2</td>\n",
       "      <td>0.05300</td>\n",
       "      <td>0.05300</td>\n",
       "    </tr>\n",
       "    <tr>\n",
       "      <th>1</th>\n",
       "      <td>201701</td>\n",
       "      <td>10032</td>\n",
       "      <td>20524</td>\n",
       "      <td>0</td>\n",
       "      <td>1</td>\n",
       "      <td>0.13628</td>\n",
       "      <td>0.13628</td>\n",
       "    </tr>\n",
       "    <tr>\n",
       "      <th>2</th>\n",
       "      <td>201701</td>\n",
       "      <td>10217</td>\n",
       "      <td>20524</td>\n",
       "      <td>0</td>\n",
       "      <td>1</td>\n",
       "      <td>0.03028</td>\n",
       "      <td>0.03028</td>\n",
       "    </tr>\n",
       "    <tr>\n",
       "      <th>3</th>\n",
       "      <td>201701</td>\n",
       "      <td>10125</td>\n",
       "      <td>20524</td>\n",
       "      <td>0</td>\n",
       "      <td>1</td>\n",
       "      <td>0.02271</td>\n",
       "      <td>0.02271</td>\n",
       "    </tr>\n",
       "    <tr>\n",
       "      <th>4</th>\n",
       "      <td>201701</td>\n",
       "      <td>10012</td>\n",
       "      <td>20524</td>\n",
       "      <td>0</td>\n",
       "      <td>11</td>\n",
       "      <td>1.54452</td>\n",
       "      <td>1.54452</td>\n",
       "    </tr>\n",
       "    <tr>\n",
       "      <th>5</th>\n",
       "      <td>201701</td>\n",
       "      <td>10080</td>\n",
       "      <td>20524</td>\n",
       "      <td>0</td>\n",
       "      <td>1</td>\n",
       "      <td>0.01514</td>\n",
       "      <td>0.01514</td>\n",
       "    </tr>\n",
       "    <tr>\n",
       "      <th>6</th>\n",
       "      <td>201701</td>\n",
       "      <td>10015</td>\n",
       "      <td>20524</td>\n",
       "      <td>0</td>\n",
       "      <td>4</td>\n",
       "      <td>0.10600</td>\n",
       "      <td>0.10600</td>\n",
       "    </tr>\n",
       "    <tr>\n",
       "      <th>7</th>\n",
       "      <td>201701</td>\n",
       "      <td>10062</td>\n",
       "      <td>20524</td>\n",
       "      <td>0</td>\n",
       "      <td>1</td>\n",
       "      <td>0.18928</td>\n",
       "      <td>0.18928</td>\n",
       "    </tr>\n",
       "    <tr>\n",
       "      <th>8</th>\n",
       "      <td>201701</td>\n",
       "      <td>10159</td>\n",
       "      <td>20524</td>\n",
       "      <td>0</td>\n",
       "      <td>3</td>\n",
       "      <td>0.02271</td>\n",
       "      <td>0.02271</td>\n",
       "    </tr>\n",
       "    <tr>\n",
       "      <th>9</th>\n",
       "      <td>201701</td>\n",
       "      <td>10183</td>\n",
       "      <td>20524</td>\n",
       "      <td>0</td>\n",
       "      <td>1</td>\n",
       "      <td>0.01514</td>\n",
       "      <td>0.01514</td>\n",
       "    </tr>\n",
       "  </tbody>\n",
       "</table>\n",
       "</div>"
      ],
      "text/plain": [
       "   periodo  customer_id  product_id  plan_precios_cuidados  cust_request_qty  \\\n",
       "0   201701        10234       20524                      0                 2   \n",
       "1   201701        10032       20524                      0                 1   \n",
       "2   201701        10217       20524                      0                 1   \n",
       "3   201701        10125       20524                      0                 1   \n",
       "4   201701        10012       20524                      0                11   \n",
       "5   201701        10080       20524                      0                 1   \n",
       "6   201701        10015       20524                      0                 4   \n",
       "7   201701        10062       20524                      0                 1   \n",
       "8   201701        10159       20524                      0                 3   \n",
       "9   201701        10183       20524                      0                 1   \n",
       "\n",
       "   cust_request_tn       tn  \n",
       "0          0.05300  0.05300  \n",
       "1          0.13628  0.13628  \n",
       "2          0.03028  0.03028  \n",
       "3          0.02271  0.02271  \n",
       "4          1.54452  1.54452  \n",
       "5          0.01514  0.01514  \n",
       "6          0.10600  0.10600  \n",
       "7          0.18928  0.18928  \n",
       "8          0.02271  0.02271  \n",
       "9          0.01514  0.01514  "
      ]
     },
     "metadata": {},
     "output_type": "display_data"
    }
   ],
   "source": [
    "df = pd.read_csv(\"../input/sell-in.txt\", sep=\"\\t\")\n",
    "df_prod = pd.read_csv(\"../input/tb_productos.txt\", sep=\"\\t\")\n",
    "df_prod_a_predecir = pd.read_csv(\"../input/tb_productos_a_predecir.txt\", sep=\"\\t\")\n",
    "df_stock = pd.read_csv(\"../input/tb_stocks.txt\", sep=\"\\t\")\n",
    "display(df.head(10))"
   ]
  },
  {
   "cell_type": "code",
   "execution_count": 30,
   "id": "2377619d",
   "metadata": {},
   "outputs": [
    {
     "name": "stdout",
     "output_type": "stream",
     "text": [
      "Cantidad de product_id diferentes en df: 1233\n",
      "Cantidad de product_id diferentes en df_prod: 1251\n",
      "Cantidad de product_id diferentes en df_prod_a_predecir: 780\n",
      "Cantidad de product_id diferentes en df_stock: 1095\n"
     ]
    }
   ],
   "source": [
    "# contar cuantos product_id diferentes hay en df\n",
    "print(\"Cantidad de product_id diferentes en df:\", df[\"product_id\"].nunique())\n",
    "# contar cuantos product_id diferentes hay en df_prod\n",
    "print(\"Cantidad de product_id diferentes en df_prod:\", df_prod[\"product_id\"].nunique())\n",
    "# contar cuantos product_id diferentes hay en df_prod_a_predecir\n",
    "print(\"Cantidad de product_id diferentes en df_prod_a_predecir:\",df_prod_a_predecir[\"product_id\"].nunique())\n",
    "# contar cuantos product_id diferentes hay en df_stock\n",
    "print(\"Cantidad de product_id diferentes en df_stock:\", df_stock[\"product_id\"].nunique())"
   ]
  },
  {
   "cell_type": "code",
   "execution_count": 31,
   "id": "fb42f6a2",
   "metadata": {},
   "outputs": [],
   "source": [
    "# Filtrar los df solo para los productos que tengo \n",
    "df_prod = df_prod[df_prod[\"product_id\"].isin(df_prod_a_predecir[\"product_id\"])]\n",
    "df_stock = df_stock[df_stock[\"product_id\"].isin(df_prod_a_predecir[\"product_id\"])]\n",
    "df = df[df[\"product_id\"].isin(df_prod_a_predecir[\"product_id\"])]"
   ]
  },
  {
   "cell_type": "code",
   "execution_count": null,
   "id": "33883b7e",
   "metadata": {},
   "outputs": [
    {
     "name": "stderr",
     "output_type": "stream",
     "text": [
      "100%|██████████| 17.6k/17.6k [00:00<00:00, 39.4kB/s]\n"
     ]
    },
    {
     "data": {
      "text/plain": [
       "{\"message\": \"Successfully submitted to Labo III, edicion 2025r\", \"ref\": 45521858}"
      ]
     },
     "execution_count": 32,
     "metadata": {},
     "output_type": "execute_result"
    }
   ],
   "source": [
    "#creo la columna año\n",
    "df[\"anio\"] = (df[\"periodo\"] // 100)  # Divide by 100 to extract year from format YYYYMM\n",
    "\n",
    "# Filtrar sólo 2019\n",
    "df_2019 = df[df[\"anio\"] == 2019]\n",
    "\n",
    "#Sumar tn por product_id y periodo (mensual)\n",
    "suma_mensual_2019 = df_2019.groupby([\"product_id\", \"periodo\"])[\"tn\"].sum().reset_index()\n",
    "\n",
    "#Calcular el promedio de esas sumas mensuales por producto\n",
    "promedio_mensual_2019 = suma_mensual_2019.groupby(\"product_id\")[\"tn\"].mean().reset_index()\n",
    "\n",
    "promedio_mensual_2019.to_csv(\"../output/2019_avg.csv\", index=False)\n",
    "\n",
    "\n",
    "\"\"\"\n",
    "kaggle.api.competition_submit(\n",
    "    \"../output/2019_avg.csv\",\n",
    "    \"2019_avg_testing_api_kaggle\",\n",
    "    \"labo-iii-edicion-2025-r\" \n",
    ")\n",
    "\"\"\"\n"
   ]
  }
 ],
 "metadata": {
  "kernelspec": {
   "display_name": "venv311",
   "language": "python",
   "name": "python3"
  },
  "language_info": {
   "codemirror_mode": {
    "name": "ipython",
    "version": 3
   },
   "file_extension": ".py",
   "mimetype": "text/x-python",
   "name": "python",
   "nbconvert_exporter": "python",
   "pygments_lexer": "ipython3",
   "version": "3.11.0"
  }
 },
 "nbformat": 4,
 "nbformat_minor": 5
}
